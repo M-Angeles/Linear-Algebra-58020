{
  "nbformat": 4,
  "nbformat_minor": 0,
  "metadata": {
    "colab": {
      "name": "Eigenvalue and Eigenvector.ipynb",
      "provenance": [],
      "authorship_tag": "ABX9TyNhhhgyaqNdaMLVEa23Johz",
      "include_colab_link": true
    },
    "kernelspec": {
      "name": "python3",
      "display_name": "Python 3"
    },
    "language_info": {
      "name": "python"
    }
  },
  "cells": [
    {
      "cell_type": "markdown",
      "metadata": {
        "id": "view-in-github",
        "colab_type": "text"
      },
      "source": [
        "<a href=\"https://colab.research.google.com/github/M-Angeles/Linear-Algebra-58020/blob/main/Eigenvalue_and_Eigenvector.ipynb\" target=\"_parent\"><img src=\"https://colab.research.google.com/assets/colab-badge.svg\" alt=\"Open In Colab\"/></a>"
      ]
    },
    {
      "cell_type": "code",
      "metadata": {
        "colab": {
          "base_uri": "https://localhost:8080/"
        },
        "id": "wmmZt19Kmh9Q",
        "outputId": "b7f2d9f5-8cfd-4ed1-9248-ad80bd2eff3e"
      },
      "source": [
        "import numpy as np\n",
        "from numpy.linalg import eig\n",
        "A = np.array([[-12,3],[4,1]])\n",
        "print(A)\n",
        "\n",
        "B = np.array([[0],[0]])\n",
        "print(B)\n",
        "\n",
        "inv_A = np.linalg.inv(A)\n",
        "print(inv_A)\n",
        "\n",
        "X = np.dot(inv_A,B)\n",
        "print(X)\n",
        "X = solve(A,B)\n",
        "print(X)\n"
      ],
      "execution_count": 20,
      "outputs": [
        {
          "output_type": "stream",
          "name": "stdout",
          "text": [
            "[[-12   3]\n",
            " [  4   1]]\n",
            "[[0]\n",
            " [0]]\n",
            "[[-0.04166667  0.125     ]\n",
            " [ 0.16666667  0.5       ]]\n",
            "[[0.]\n",
            " [0.]]\n",
            "[[-0.]\n",
            " [ 0.]]\n"
          ]
        }
      ]
    },
    {
      "cell_type": "code",
      "metadata": {
        "colab": {
          "base_uri": "https://localhost:8080/"
        },
        "id": "QwuBUI7bp-GF",
        "outputId": "6fef817a-db50-41b2-ff46-a74f13b35cff"
      },
      "source": [
        "#Example 1\n",
        "A = np.array(([-6,3],[4,5]))\n",
        "print(A)\n",
        "\n",
        "w,v = np.linalg.eig(A)\n",
        "print(\"The eigenvalue/s is/are\",w)\n",
        "print(\"The right eigenvectors are\",v)\n",
        "#x = v.round()\n",
        "#print(x)\n"
      ],
      "execution_count": 21,
      "outputs": [
        {
          "output_type": "stream",
          "name": "stdout",
          "text": [
            "[[-6  3]\n",
            " [ 4  5]]\n",
            "The eigenvalue/s is/are [-7.  6.]\n",
            "The right eigenvectors are [[-0.9486833  -0.24253563]\n",
            " [ 0.31622777 -0.9701425 ]]\n"
          ]
        }
      ]
    },
    {
      "cell_type": "code",
      "metadata": {
        "colab": {
          "base_uri": "https://localhost:8080/"
        },
        "id": "M0_SosJZuwxe",
        "outputId": "d010f079-cd66-4fdf-d85a-cad54495b31e"
      },
      "source": [
        "#Example 2\n",
        "A = np.array([[2,2,4],[1,3,5],[2,3,4]])\n",
        "print(A)\n",
        "s,t = np.linalg.eig(A)\n",
        "print(s.round())\n",
        "print(t.round())\n",
        "c = np.dot(A,t.round())\n",
        "print(c)"
      ],
      "execution_count": 18,
      "outputs": [
        {
          "output_type": "stream",
          "name": "stdout",
          "text": [
            "[[2 2 4]\n",
            " [1 3 5]\n",
            " [2 3 4]]\n",
            "[ 9.  1. -1.]\n",
            "[[-1. -1. -0.]\n",
            " [-1.  1. -1.]\n",
            " [-1. -0.  1.]]\n",
            "[[-8.  0.  2.]\n",
            " [-9.  2.  2.]\n",
            " [-9.  1.  1.]]\n"
          ]
        }
      ]
    }
  ]
}