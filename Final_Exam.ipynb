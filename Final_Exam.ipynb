{
  "nbformat": 4,
  "nbformat_minor": 0,
  "metadata": {
    "colab": {
      "name": "Final Exam",
      "provenance": [],
      "authorship_tag": "ABX9TyPPZsFGOYzNAazQUO4OFGqY",
      "include_colab_link": true
    },
    "kernelspec": {
      "name": "python3",
      "display_name": "Python 3"
    },
    "language_info": {
      "name": "python"
    }
  },
  "cells": [
    {
      "cell_type": "markdown",
      "metadata": {
        "id": "view-in-github",
        "colab_type": "text"
      },
      "source": [
        "<a href=\"https://colab.research.google.com/github/M-Angeles/Linear-Algebra-58020/blob/main/Final_Exam.ipynb\" target=\"_parent\"><img src=\"https://colab.research.google.com/assets/colab-badge.svg\" alt=\"Open In Colab\"/></a>"
      ]
    },
    {
      "cell_type": "code",
      "execution_count": 3,
      "metadata": {
        "colab": {
          "base_uri": "https://localhost:8080/"
        },
        "id": "MbOtWRaw5itb",
        "outputId": "7e1ef1a0-f001-4121-beae-ede03e8bb27e"
      },
      "outputs": [
        {
          "output_type": "stream",
          "name": "stdout",
          "text": [
            "Integral = 2.177421\n"
          ]
        }
      ],
      "source": [
        "from math import e\n",
        "def f(x): return e**x\n",
        "\n",
        "x1 = -1\n",
        "x2 = 1\n",
        "n = 7\n",
        "h = (x2 - x1)/n\n",
        "S = h*(f(x1)+f(x2))\n",
        "for i in range(1,n):\n",
        "  S = S+f(x1+i*h)\n",
        "integral = h*S\n",
        "print('Integral = %f' %integral)"
      ]
    }
  ]
}