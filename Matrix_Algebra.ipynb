{
  "nbformat": 4,
  "nbformat_minor": 0,
  "metadata": {
    "colab": {
      "name": "Matrix Algebra.ipynb",
      "provenance": [],
      "authorship_tag": "ABX9TyMvDJhCe0eWzcjqKH7zjTl2",
      "include_colab_link": true
    },
    "kernelspec": {
      "name": "python3",
      "display_name": "Python 3"
    },
    "language_info": {
      "name": "python"
    }
  },
  "cells": [
    {
      "cell_type": "markdown",
      "metadata": {
        "id": "view-in-github",
        "colab_type": "text"
      },
      "source": [
        "<a href=\"https://colab.research.google.com/github/M-Angeles/Linear-Algebra-58020/blob/main/Matrix_Algebra.ipynb\" target=\"_parent\"><img src=\"https://colab.research.google.com/assets/colab-badge.svg\" alt=\"Open In Colab\"/></a>"
      ]
    },
    {
      "cell_type": "markdown",
      "metadata": {
        "id": "Nd0HeO0sy7Cs"
      },
      "source": [
        "##Python program to Inverse\n"
      ]
    },
    {
      "cell_type": "code",
      "metadata": {
        "colab": {
          "base_uri": "https://localhost:8080/"
        },
        "id": "l0bO-DL5ybjU",
        "outputId": "35b2f296-c8f6-4229-82d7-926db02768ec"
      },
      "source": [
        "import numpy as np \n",
        "## inverse of 3x3 matrix\n",
        "A = np.array([[10, 2, 3],\n",
        "              [4, 5, 6],\n",
        "              [7, 8, 9]])\n",
        "print(A)"
      ],
      "execution_count": 40,
      "outputs": [
        {
          "output_type": "stream",
          "name": "stdout",
          "text": [
            "[[10  2  3]\n",
            " [ 4  5  6]\n",
            " [ 7  8  9]]\n"
          ]
        }
      ]
    },
    {
      "cell_type": "code",
      "metadata": {
        "colab": {
          "base_uri": "https://localhost:8080/"
        },
        "id": "TE0KJwx9cZu1",
        "outputId": "101dcb2e-9dba-4a7f-e5e6-b9305cc13fb3"
      },
      "source": [
        "B = np.linalg.inv(A)\n",
        "\n",
        "print(B)"
      ],
      "execution_count": 43,
      "outputs": [
        {
          "output_type": "stream",
          "name": "stdout",
          "text": [
            "[[ 0.11111111 -0.22222222  0.11111111]\n",
            " [-0.22222222 -2.55555556  1.77777778]\n",
            " [ 0.11111111  2.44444444 -1.55555556]]\n"
          ]
        }
      ]
    },
    {
      "cell_type": "code",
      "metadata": {
        "colab": {
          "base_uri": "https://localhost:8080/"
        },
        "id": "EdapCZPQZY07",
        "outputId": "2e9349ac-eda5-4886-f64e-84b7a3ba647b"
      },
      "source": [
        "print(np.dot(A,B))"
      ],
      "execution_count": 42,
      "outputs": [
        {
          "output_type": "stream",
          "name": "stdout",
          "text": [
            "[[ 1.00000000e+00  0.00000000e+00 -2.22044605e-16]\n",
            " [-2.77555756e-17  1.00000000e+00  1.33226763e-15]\n",
            " [ 6.93889390e-17 -2.66453526e-15  1.00000000e+00]]\n"
          ]
        }
      ]
    },
    {
      "cell_type": "code",
      "metadata": {
        "colab": {
          "base_uri": "https://localhost:8080/"
        },
        "id": "mUfdy6QXdqAR",
        "outputId": "36bb45db-bc3a-4477-929e-8123b77e2d3d"
      },
      "source": [
        "## inverse of 4x4 matrix\n",
        "AB = np.array([[10, 20, 30, 15],\n",
        "               [40, 50, 60, 25],\n",
        "               [70, 80, 90, 35],\n",
        "               [45, 55, 65, 75]])\n",
        "print(AB)"
      ],
      "execution_count": 50,
      "outputs": [
        {
          "output_type": "stream",
          "name": "stdout",
          "text": [
            "[[10 20 30 15]\n",
            " [40 50 60 25]\n",
            " [70 80 90 35]\n",
            " [45 55 65 75]]\n"
          ]
        }
      ]
    },
    {
      "cell_type": "code",
      "metadata": {
        "colab": {
          "base_uri": "https://localhost:8080/"
        },
        "id": "38GDt1Wid9h_",
        "outputId": "890a2ecd-4419-4c69-fbd9-a8f067f9cf75"
      },
      "source": [
        "print(np.linalg.inv(AB))"
      ],
      "execution_count": 51,
      "outputs": [
        {
          "output_type": "stream",
          "name": "stdout",
          "text": [
            "[[ 7.03687442e+13 -1.40737488e+14  7.03687442e+13 -2.43186512e-03]\n",
            " [-1.40737488e+14  2.81474977e+14 -1.40737488e+14  1.52085578e-02]\n",
            " [ 7.03687442e+13 -1.40737488e+14  7.03687442e+13 -1.96732444e-02]\n",
            " [ 1.20689655e-02 -4.13793103e-02  8.62068966e-03  2.06896552e-02]]\n"
          ]
        }
      ]
    },
    {
      "cell_type": "markdown",
      "metadata": {
        "id": "obZrzhctcgL1"
      },
      "source": [
        "##Python Program to Transpose"
      ]
    },
    {
      "cell_type": "code",
      "metadata": {
        "colab": {
          "base_uri": "https://localhost:8080/"
        },
        "id": "5cR30WMXckRD",
        "outputId": "881bda77-7616-4ffe-9641-96835eac12c8"
      },
      "source": [
        "## transpose of a 3x3 matrix\n",
        "A = np.array([[10, 2, 3],\n",
        "              [4, 5, 6],\n",
        "              [7, 8, 9]])\n",
        "print(A)"
      ],
      "execution_count": 44,
      "outputs": [
        {
          "output_type": "stream",
          "name": "stdout",
          "text": [
            "[[10  2  3]\n",
            " [ 4  5  6]\n",
            " [ 7  8  9]]\n"
          ]
        }
      ]
    },
    {
      "cell_type": "code",
      "metadata": {
        "colab": {
          "base_uri": "https://localhost:8080/"
        },
        "id": "LLqSS0VncrqJ",
        "outputId": "83ee2453-f202-4a42-e91f-b4e71f790ad0"
      },
      "source": [
        "C = np.transpose(A)\n",
        "print(C)"
      ],
      "execution_count": 45,
      "outputs": [
        {
          "output_type": "stream",
          "name": "stdout",
          "text": [
            "[[10  4  7]\n",
            " [ 2  5  8]\n",
            " [ 3  6  9]]\n"
          ]
        }
      ]
    },
    {
      "cell_type": "code",
      "metadata": {
        "colab": {
          "base_uri": "https://localhost:8080/"
        },
        "id": "zDntzD7Sefml",
        "outputId": "6d68bd17-061e-4328-d57b-807a01132162"
      },
      "source": [
        "## transpose of 4x4 matrix\n",
        "AB = np.array([[10, 20, 30, 15],\n",
        "               [40, 50, 60, 25],\n",
        "               [70, 80, 90, 35],\n",
        "               [45, 55, 65, 75]])\n",
        "print(AB)"
      ],
      "execution_count": 52,
      "outputs": [
        {
          "output_type": "stream",
          "name": "stdout",
          "text": [
            "[[10 20 30 15]\n",
            " [40 50 60 25]\n",
            " [70 80 90 35]\n",
            " [45 55 65 75]]\n"
          ]
        }
      ]
    },
    {
      "cell_type": "code",
      "metadata": {
        "colab": {
          "base_uri": "https://localhost:8080/"
        },
        "id": "VWJ1FmGGeiZ-",
        "outputId": "ca24e6cd-793a-48d9-b5b8-b35db8e3e4fd"
      },
      "source": [
        "print(np.transpose(AB))"
      ],
      "execution_count": 53,
      "outputs": [
        {
          "output_type": "stream",
          "name": "stdout",
          "text": [
            "[[10 40 70 45]\n",
            " [20 50 80 55]\n",
            " [30 60 90 65]\n",
            " [15 25 35 75]]\n"
          ]
        }
      ]
    }
  ]
}