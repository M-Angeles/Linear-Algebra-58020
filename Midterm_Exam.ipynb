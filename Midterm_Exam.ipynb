{
  "nbformat": 4,
  "nbformat_minor": 0,
  "metadata": {
    "colab": {
      "name": "Midterm Exam.ipynb",
      "provenance": [],
      "collapsed_sections": [],
      "authorship_tag": "ABX9TyNLFvIKaZ0+iD2XQC3z0l2R",
      "include_colab_link": true
    },
    "kernelspec": {
      "name": "python3",
      "display_name": "Python 3"
    },
    "language_info": {
      "name": "python"
    }
  },
  "cells": [
    {
      "cell_type": "markdown",
      "metadata": {
        "id": "view-in-github",
        "colab_type": "text"
      },
      "source": [
        "<a href=\"https://colab.research.google.com/github/M-Angeles/Linear-Algebra-58020/blob/main/Midterm_Exam.ipynb\" target=\"_parent\"><img src=\"https://colab.research.google.com/assets/colab-badge.svg\" alt=\"Open In Colab\"/></a>"
      ]
    },
    {
      "cell_type": "markdown",
      "metadata": {
        "id": "jSyUEV07DDLf"
      },
      "source": [
        "##Midterm Exam"
      ]
    },
    {
      "cell_type": "code",
      "metadata": {
        "colab": {
          "base_uri": "https://localhost:8080/"
        },
        "id": "CkqeiG8z3ak2",
        "outputId": "580a9eb4-2c1a-4f47-9334-d1db6780fc65"
      },
      "source": [
        "import numpy as np\n",
        "\n",
        "##Question 1. Create a Python code that displays a square matrix whose length is 5 (10 points)\n",
        "\n",
        "A = np.array([[1,2,3,4,5],[6,7,8,9,10],[11,12,13,14,15],[16,17,18,19,20],[21,22,23,24,25]])\n",
        "print(A)"
      ],
      "execution_count": 20,
      "outputs": [
        {
          "output_type": "stream",
          "name": "stdout",
          "text": [
            "[[ 1  2  3  4  5]\n",
            " [ 6  7  8  9 10]\n",
            " [11 12 13 14 15]\n",
            " [16 17 18 19 20]\n",
            " [21 22 23 24 25]]\n"
          ]
        }
      ]
    },
    {
      "cell_type": "code",
      "metadata": {
        "colab": {
          "base_uri": "https://localhost:8080/"
        },
        "id": "VhD-D1-R8Qyq",
        "outputId": "a5f8dc34-329c-478f-f16a-b124b7e55df0"
      },
      "source": [
        "##Question 2. Create a Python code that displays a square matrix whose elements below the principal diagonal are zero (10 points)\n",
        "\n",
        "B = np.array([[1,2,3],[0,4,5],[0,0,6]])\n",
        "print(B)"
      ],
      "execution_count": 19,
      "outputs": [
        {
          "output_type": "stream",
          "name": "stdout",
          "text": [
            "[[1 2 3]\n",
            " [0 4 5]\n",
            " [0 0 6]]\n"
          ]
        }
      ]
    },
    {
      "cell_type": "code",
      "metadata": {
        "colab": {
          "base_uri": "https://localhost:8080/"
        },
        "id": "YvSlsC9u8xpf",
        "outputId": "a8219b2f-db6d-4876-d7f9-4278e10cf3bd"
      },
      "source": [
        "##Question 3. Create a Python code that displays a square matrix which is symmetrical (10 points)\n",
        "C = np.array([[1,2,3],[2,2,3],[3,3,1]])\n",
        "print(C)"
      ],
      "execution_count": 18,
      "outputs": [
        {
          "output_type": "stream",
          "name": "stdout",
          "text": [
            "[[1 2 3]\n",
            " [2 2 3]\n",
            " [3 3 1]]\n"
          ]
        }
      ]
    },
    {
      "cell_type": "code",
      "metadata": {
        "colab": {
          "base_uri": "https://localhost:8080/"
        },
        "id": "hEE-pAn091m6",
        "outputId": "b45729d1-07f2-4d4f-a7d1-ce85c0fbb1b3"
      },
      "source": [
        "##Question 4. What is the inverse of matrix C? Show your solution by python coding. (20 points)\n",
        "\n",
        "D = np.array([[1,2,3],[2,3,3],[3,4,-2]])\n",
        "print(D)\n",
        "\n",
        "inv_D = np.linalg.inv(D)\n",
        "print(inv_D)"
      ],
      "execution_count": 17,
      "outputs": [
        {
          "output_type": "stream",
          "name": "stdout",
          "text": [
            "[[ 1  2  3]\n",
            " [ 2  3  3]\n",
            " [ 3  4 -2]]\n",
            "[[-3.6  3.2 -0.6]\n",
            " [ 2.6 -2.2  0.6]\n",
            " [-0.2  0.4 -0.2]]\n"
          ]
        }
      ]
    },
    {
      "cell_type": "code",
      "metadata": {
        "id": "UeYhdQuO-b2S",
        "colab": {
          "base_uri": "https://localhost:8080/"
        },
        "outputId": "ba66b6aa-06e2-4b2a-eaa4-0c0f6b770a91"
      },
      "source": [
        "##Question 5. What is the determinant of the given matrix in Question 4? Show your solution by python coding. (20 points)\n",
        "\n",
        "E = np.array([[1,2,3],[2,3,3],[3,4,-2]])\n",
        "print(E)\n",
        "\n",
        "print(np.linalg.det(E))\n",
        "print(round(np.linalg.det(E)))\n",
        "\n"
      ],
      "execution_count": 16,
      "outputs": [
        {
          "output_type": "stream",
          "name": "stdout",
          "text": [
            "[[ 1  2  3]\n",
            " [ 2  3  3]\n",
            " [ 3  4 -2]]\n",
            "5.000000000000001\n",
            "5\n"
          ]
        }
      ]
    },
    {
      "cell_type": "code",
      "metadata": {
        "colab": {
          "base_uri": "https://localhost:8080/"
        },
        "id": "6jBoX57J_x-O",
        "outputId": "65a00f67-5d00-4bac-b3bf-40bf87f78bfd"
      },
      "source": [
        "##Question 6. Find the roots of the linear equations by showing its python codes (30 points)\n",
        "\n",
        "##5X1 + 4X2 + X3 = 3.4\n",
        "\n",
        "##10X1 + 9X2 + 4X3 = 8.8\n",
        "\n",
        "##10X1 + 13X2 + 15X3 = 19.2\n",
        "\n",
        "F = np.array([[5,4,1],[10,9,4],[10,13,15]])\n",
        "print(E)\n",
        "\n",
        "inv_F = np.linalg.inv(F)\n",
        "print(inv_F)\n",
        "\n",
        "G = np.array([[3.4],[8.8],[19.2]])\n",
        "print(G)\n",
        "\n",
        "X = np.dot(inv_F,G)\n",
        "print(X)\n",
        "\n"
      ],
      "execution_count": 15,
      "outputs": [
        {
          "output_type": "stream",
          "name": "stdout",
          "text": [
            "[[ 5  4  1]\n",
            " [10  9  4]\n",
            " [10 13 15]]\n",
            "[[ 5.53333333 -3.13333333  0.46666667]\n",
            " [-7.33333333  4.33333333 -0.66666667]\n",
            " [ 2.66666667 -1.66666667  0.33333333]]\n",
            "[[ 3.4]\n",
            " [ 8.8]\n",
            " [19.2]]\n",
            "[[0.2]\n",
            " [0.4]\n",
            " [0.8]]\n"
          ]
        }
      ]
    }
  ]
}