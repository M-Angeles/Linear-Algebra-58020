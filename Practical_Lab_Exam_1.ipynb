{
  "nbformat": 4,
  "nbformat_minor": 0,
  "metadata": {
    "colab": {
      "name": "Practical Lab Exam 1",
      "provenance": [],
      "authorship_tag": "ABX9TyMbaEVWdwmWmhBGkdkRG1Pg",
      "include_colab_link": true
    },
    "kernelspec": {
      "name": "python3",
      "display_name": "Python 3"
    },
    "language_info": {
      "name": "python"
    }
  },
  "cells": [
    {
      "cell_type": "markdown",
      "metadata": {
        "id": "view-in-github",
        "colab_type": "text"
      },
      "source": [
        "<a href=\"https://colab.research.google.com/github/M-Angeles/Linear-Algebra-58020/blob/main/Practical_Lab_Exam_1.ipynb\" target=\"_parent\"><img src=\"https://colab.research.google.com/assets/colab-badge.svg\" alt=\"Open In Colab\"/></a>"
      ]
    },
    {
      "cell_type": "markdown",
      "metadata": {
        "id": "vv1p1PU7-z1x"
      },
      "source": [
        "##Practical Lab Exam 1\n",
        "  "
      ]
    },
    {
      "cell_type": "code",
      "metadata": {
        "colab": {
          "base_uri": "https://localhost:8080/"
        },
        "id": "1logmR90-Kkw",
        "outputId": "5fa60b30-7ee5-43d7-c192-f6f0a1ae5c60"
      },
      "source": [
        "import numpy as np\n",
        "\n",
        "W = np.array([[1,-3],[2,-2],[3,1]])\n",
        "X = np.array([[3,2,1],[-1,2,3],[2,-1,1]])\n",
        "Y = np.array([[1,2,0],[0,-1,2]])\n",
        "Z = np.array([[0,1],[2,3]])\n",
        "print(W)\n",
        "print(X)\n",
        "print(Y)\n",
        "print(Z)"
      ],
      "execution_count": 7,
      "outputs": [
        {
          "output_type": "stream",
          "name": "stdout",
          "text": [
            "[[ 1 -3]\n",
            " [ 2 -2]\n",
            " [ 3  1]]\n",
            "[[ 3  2  1]\n",
            " [-1  2  3]\n",
            " [ 2 -1  1]]\n",
            "[[ 1  2  0]\n",
            " [ 0 -1  2]]\n",
            "[[0 1]\n",
            " [2 3]]\n"
          ]
        }
      ]
    },
    {
      "cell_type": "markdown",
      "metadata": {
        "id": "EWa1Y0wFIdAl"
      },
      "source": [
        "####Problem 1"
      ]
    },
    {
      "cell_type": "code",
      "metadata": {
        "colab": {
          "base_uri": "https://localhost:8080/"
        },
        "id": "QWxawuMfBndf",
        "outputId": "43aad077-88d8-4f59-d56b-c82f7cebf08a"
      },
      "source": [
        "##a. WY\n",
        "W = np.array([[1,-3],[2,-2],[3,1]])\n",
        "Y = np.array([[1,2,0],[0,-1,2]])\n",
        "\n",
        "P = np.dot(W,Y)\n",
        "\n",
        "print(P)\n"
      ],
      "execution_count": 14,
      "outputs": [
        {
          "output_type": "stream",
          "name": "stdout",
          "text": [
            "[[ 1  5 -6]\n",
            " [ 2  6 -4]\n",
            " [ 3  5  2]]\n"
          ]
        }
      ]
    },
    {
      "cell_type": "code",
      "metadata": {
        "colab": {
          "base_uri": "https://localhost:8080/"
        },
        "id": "prCsnt8AGIkI",
        "outputId": "7ae79ef3-4c0c-480d-a431-3c902d917953"
      },
      "source": [
        "##b. Z+Z\n",
        "Z = np.array([[0,1],[2,3]])\n",
        "\n",
        "R = Z+Z\n",
        "print(R)"
      ],
      "execution_count": 11,
      "outputs": [
        {
          "output_type": "stream",
          "name": "stdout",
          "text": [
            "[[0 2]\n",
            " [4 6]]\n"
          ]
        }
      ]
    },
    {
      "cell_type": "code",
      "metadata": {
        "colab": {
          "base_uri": "https://localhost:8080/"
        },
        "id": "39CaKKVrGIx-",
        "outputId": "ffd8559f-b9ec-418d-e776-c8bc89f7567e"
      },
      "source": [
        "##c. 3X\n",
        "X = np.array([[3,2,1],[-1,2,3],[2,-1,1]])\n",
        "\n",
        "A = np.multiply(3,X)\n",
        "print(A)"
      ],
      "execution_count": 12,
      "outputs": [
        {
          "output_type": "stream",
          "name": "stdout",
          "text": [
            "[[ 9  6  3]\n",
            " [-3  6  9]\n",
            " [ 6 -3  3]]\n"
          ]
        }
      ]
    },
    {
      "cell_type": "markdown",
      "metadata": {
        "id": "ziQ5nTJAH9g8"
      },
      "source": [
        "##Problem 2\n"
      ]
    },
    {
      "cell_type": "code",
      "metadata": {
        "colab": {
          "base_uri": "https://localhost:8080/"
        },
        "id": "_PSPt3eoIgdd",
        "outputId": "c5aff38a-1af1-4c94-94e1-82b3537667f4"
      },
      "source": [
        "##The product (YW)^2 is not defined\n",
        "W = np.array([[1,-3],[2,-2],[3,1]])\n",
        "Y = np.array([[1,2,0],[0,-1,2]])\n",
        "\n",
        "P = np.dot(Y,W)\n",
        "\n",
        "Q = np.multiply(P,P)\n",
        "print(Q)\n",
        "##The answer is false"
      ],
      "execution_count": 27,
      "outputs": [
        {
          "output_type": "stream",
          "name": "stdout",
          "text": [
            "[[25 49]\n",
            " [16 16]]\n"
          ]
        }
      ]
    },
    {
      "cell_type": "code",
      "metadata": {
        "colab": {
          "base_uri": "https://localhost:8080/"
        },
        "id": "8Wc0SWzkIgf5",
        "outputId": "0796dbaa-387b-4ebd-b6b0-b0595d82ee04"
      },
      "source": [
        "##b. WY – X = \n",
        "X = np.array([[3,2,1],[-1,2,3],[2,-1,1]])\n",
        "\n",
        "B = np.subtract(P,X)\n",
        "print(B)\n",
        "##The answer is true"
      ],
      "execution_count": 18,
      "outputs": [
        {
          "output_type": "stream",
          "name": "stdout",
          "text": [
            "[[-2  3 -7]\n",
            " [ 3  4 -7]\n",
            " [ 1  6  1]]\n"
          ]
        }
      ]
    },
    {
      "cell_type": "code",
      "metadata": {
        "colab": {
          "base_uri": "https://localhost:8080/"
        },
        "id": "T8dCUTfwJ3mO",
        "outputId": "6c98d9d0-cf8d-442f-9a68-fc0baf6da401"
      },
      "source": [
        "##c. YW – Z2 =\n",
        "W = np.array([[1,-3],[2,-2],[3,1]])\n",
        "Y = np.array([[1,2,0],[0,-1,2]])\n",
        "\n",
        "C =np.dot(Y,W)\n",
        "print(C)"
      ],
      "execution_count": 21,
      "outputs": [
        {
          "output_type": "stream",
          "name": "stdout",
          "text": [
            "[[ 5 -7]\n",
            " [ 4  4]]\n"
          ]
        }
      ]
    },
    {
      "cell_type": "code",
      "metadata": {
        "colab": {
          "base_uri": "https://localhost:8080/"
        },
        "id": "zJVonKtOIgiT",
        "outputId": "a5313618-0cf8-4b6e-b05c-91aaee9f9163"
      },
      "source": [
        "Z = np.array([[0,1],[2,3]])\n",
        "D = np.multiply(Z,Z)\n",
        "\n",
        "print(D)"
      ],
      "execution_count": 26,
      "outputs": [
        {
          "output_type": "stream",
          "name": "stdout",
          "text": [
            "[[0 1]\n",
            " [4 9]]\n"
          ]
        }
      ]
    },
    {
      "cell_type": "code",
      "metadata": {
        "colab": {
          "base_uri": "https://localhost:8080/"
        },
        "id": "2NRuXgmgNMDQ",
        "outputId": "6af721df-2aad-4286-cf4a-fdede7d2b1eb"
      },
      "source": [
        "Result = np.subtract(C,D)\n",
        "print(Result)\n",
        "\n",
        "##The answer is false"
      ],
      "execution_count": 29,
      "outputs": [
        {
          "output_type": "stream",
          "name": "stdout",
          "text": [
            "[[ 5 -8]\n",
            " [ 0 -5]]\n"
          ]
        }
      ]
    },
    {
      "cell_type": "markdown",
      "metadata": {
        "id": "GLzME86pQ1el"
      },
      "source": [
        "###The only statement that is true is letter b."
      ]
    }
  ]
}