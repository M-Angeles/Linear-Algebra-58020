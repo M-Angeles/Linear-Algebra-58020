{
  "nbformat": 4,
  "nbformat_minor": 0,
  "metadata": {
    "colab": {
      "name": "Vector representation",
      "provenance": [],
      "include_colab_link": true
    },
    "kernelspec": {
      "name": "python3",
      "display_name": "Python 3"
    },
    "language_info": {
      "name": "python"
    }
  },
  "cells": [
    {
      "cell_type": "markdown",
      "metadata": {
        "id": "view-in-github",
        "colab_type": "text"
      },
      "source": [
        "<a href=\"https://colab.research.google.com/github/M-Angeles/Linear-Algebra-58020/blob/main/Vector_representation.ipynb\" target=\"_parent\"><img src=\"https://colab.research.google.com/assets/colab-badge.svg\" alt=\"Open In Colab\"/></a>"
      ]
    },
    {
      "cell_type": "markdown",
      "metadata": {
        "id": "r3EI80wbBLpO"
      },
      "source": [
        "#Matrix and its Operations\n"
      ]
    },
    {
      "cell_type": "code",
      "metadata": {
        "colab": {
          "base_uri": "https://localhost:8080/"
        },
        "id": "MKEdwDWLBOck",
        "outputId": "a3b46c0b-25ce-48a3-f6a4-dd4229573d8e"
      },
      "source": [
        "import numpy as np\n",
        "#Create an 1x3 matrix\n",
        "\n",
        "x = np.array([1,2,3])\n",
        "print(x)\n"
      ],
      "execution_count": null,
      "outputs": [
        {
          "output_type": "stream",
          "name": "stdout",
          "text": [
            "[1 2 3]\n"
          ]
        }
      ]
    },
    {
      "cell_type": "code",
      "metadata": {
        "colab": {
          "base_uri": "https://localhost:8080/"
        },
        "id": "phFSckmzB-wy",
        "outputId": "9732b4c9-91a3-43e0-a667-cd32cca46db7"
      },
      "source": [
        "#Create a 2x3 matrix\n",
        "\n",
        "y = np.array([[1,2,3],[4,5,6]])\n",
        "\n",
        "print(y)"
      ],
      "execution_count": null,
      "outputs": [
        {
          "output_type": "stream",
          "name": "stdout",
          "text": [
            "[[1 2 3]\n",
            " [4 5 6]]\n"
          ]
        }
      ]
    },
    {
      "cell_type": "code",
      "metadata": {
        "colab": {
          "base_uri": "https://localhost:8080/"
        },
        "id": "NxaP5CCaCdnS",
        "outputId": "0c83c089-b282-41dc-8b88-534076cc3715"
      },
      "source": [
        "#Create a 3x3 matrix\n",
        "z = np.array([[1,2,3],[4,5,6],[7,8,9]])\n",
        "print(z)"
      ],
      "execution_count": null,
      "outputs": [
        {
          "output_type": "stream",
          "name": "stdout",
          "text": [
            "[[1 2 3]\n",
            " [4 5 6]\n",
            " [7 8 9]]\n"
          ]
        }
      ]
    },
    {
      "cell_type": "code",
      "metadata": {
        "colab": {
          "base_uri": "https://localhost:8080/"
        },
        "id": "vfLE1DqZEryq",
        "outputId": "084af89a-5bcb-41c8-e5e8-aad4b14d68f4"
      },
      "source": [
        "#Create a constant with all values are 6\n",
        "\n",
        "a = np.array([[6,6],[6,6]])\n",
        "print(a)\n",
        "\n",
        "a = np.full((2,2),6)\n",
        "print(a)"
      ],
      "execution_count": 31,
      "outputs": [
        {
          "output_type": "stream",
          "name": "stdout",
          "text": [
            "[[6 6]\n",
            " [6 6]]\n",
            "[[6 6]\n",
            " [6 6]]\n"
          ]
        }
      ]
    },
    {
      "cell_type": "code",
      "metadata": {
        "colab": {
          "base_uri": "https://localhost:8080/"
        },
        "id": "AF0SmlU8Ev2e",
        "outputId": "57b185f5-6caa-43cf-aed1-407a92ee3ec6"
      },
      "source": [
        "#Create a diagonal matrix\n",
        "b = np.array([[1,2,3],[4,5,6],[7,8,9]])\n",
        "print(b)\n",
        "c = np.diagonal([[1,2,3],[4,5,6],[7,8,9]])\n",
        "print(c)"
      ],
      "execution_count": 15,
      "outputs": [
        {
          "output_type": "stream",
          "name": "stdout",
          "text": [
            "[1 5 9]\n"
          ]
        }
      ]
    },
    {
      "cell_type": "code",
      "metadata": {
        "colab": {
          "base_uri": "https://localhost:8080/"
        },
        "id": "or_wn1iLE56_",
        "outputId": "43be269f-bc9a-4331-baee-0df2d282f6f7"
      },
      "source": [
        "#Create an identity matrix\n",
        "q = np.eye(4)\n",
        "\n",
        "print(q)"
      ],
      "execution_count": 11,
      "outputs": [
        {
          "output_type": "stream",
          "name": "stdout",
          "text": [
            "[[1. 0. 0. 0.]\n",
            " [0. 1. 0. 0.]\n",
            " [0. 0. 1. 0.]\n",
            " [0. 0. 0. 1.]]\n"
          ]
        }
      ]
    },
    {
      "cell_type": "code",
      "metadata": {
        "colab": {
          "base_uri": "https://localhost:8080/"
        },
        "id": "xsBOUb5hFDD2",
        "outputId": "c531cd85-470a-4a42-c85a-dd51cf3028b1"
      },
      "source": [
        "#Create a zero matrix\n",
        "w = np.zeros((4,5))\n",
        "print(w)"
      ],
      "execution_count": 14,
      "outputs": [
        {
          "output_type": "stream",
          "name": "stdout",
          "text": [
            "[[0. 0. 0. 0. 0.]\n",
            " [0. 0. 0. 0. 0.]\n",
            " [0. 0. 0. 0. 0.]\n",
            " [0. 0. 0. 0. 0.]]\n"
          ]
        }
      ]
    },
    {
      "cell_type": "code",
      "metadata": {
        "colab": {
          "base_uri": "https://localhost:8080/"
        },
        "id": "RSH0QPo1Fa9t",
        "outputId": "a3112624-8def-4fab-e843-8c5821bcc20f"
      },
      "source": [
        "#Create an empty matrix\n",
        "\n",
        "e = np.empty((0,5))\n",
        "print(e)"
      ],
      "execution_count": 16,
      "outputs": [
        {
          "output_type": "stream",
          "name": "stdout",
          "text": [
            "[]\n"
          ]
        }
      ]
    },
    {
      "cell_type": "code",
      "metadata": {
        "colab": {
          "base_uri": "https://localhost:8080/"
        },
        "id": "lsxb1gymFnpK",
        "outputId": "0854296f-0d2c-45e9-bcd4-be246d5fd505"
      },
      "source": [
        "#Addition of matrices\n",
        "r = np.array([[1,2,3],[4,5,6]])\n",
        "t = np.zeros((2,3))\n",
        "\n",
        "print (r+t)\n"
      ],
      "execution_count": 20,
      "outputs": [
        {
          "output_type": "stream",
          "name": "stdout",
          "text": [
            "[[1. 2. 3.]\n",
            " [4. 5. 6.]]\n"
          ]
        }
      ]
    },
    {
      "cell_type": "code",
      "metadata": {
        "colab": {
          "base_uri": "https://localhost:8080/"
        },
        "id": "IPMbn0thGYJV",
        "outputId": "105a2840-de1c-433f-dbba-d748ebeae5f8"
      },
      "source": [
        "#Subtraction of Matrices\n",
        "\n",
        "r = np.array([[1,2,3],[4,5,6]])\n",
        "t = np.array([[-1,2,4],[7,4,2]])\n",
        "#print(r)\n",
        "#print(t)\n",
        "print (r-t)"
      ],
      "execution_count": 24,
      "outputs": [
        {
          "output_type": "stream",
          "name": "stdout",
          "text": [
            "[[1 2 3]\n",
            " [4 5 6]]\n",
            "[[-1  2  4]\n",
            " [ 7  4  2]]\n",
            "[[ 2  0 -1]\n",
            " [-3  1  4]]\n"
          ]
        }
      ]
    }
  ]
}